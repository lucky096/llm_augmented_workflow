{
  "nbformat": 4,
  "nbformat_minor": 0,
  "metadata": {
    "colab": {
      "provenance": [],
      "authorship_tag": "ABX9TyPpixUqrtUvNPL6pNQQcpxE",
      "include_colab_link": true
    },
    "kernelspec": {
      "name": "python3",
      "display_name": "Python 3"
    },
    "language_info": {
      "name": "python"
    }
  },
  "cells": [
    {
      "cell_type": "markdown",
      "metadata": {
        "id": "view-in-github",
        "colab_type": "text"
      },
      "source": [
        "<a href=\"https://colab.research.google.com/github/lucky096/llm_augmented_workflow/blob/main/SocialMediaAgents.ipynb\" target=\"_parent\"><img src=\"https://colab.research.google.com/assets/colab-badge.svg\" alt=\"Open In Colab\"/></a>"
      ]
    },
    {
      "cell_type": "code",
      "execution_count": 1,
      "metadata": {
        "id": "zE-ptsy-muZz"
      },
      "outputs": [],
      "source": [
        "!pip install -Uqqq pip --progress-bar off\n",
        "!pip install -qqq langchain_groq==0.2.0 --progress-bar off\n",
        "!pip install -qqq langgraph==0.2.22 --progress-bar off"
      ]
    },
    {
      "cell_type": "code",
      "source": [],
      "metadata": {
        "id": "PflUmTwfnR1-"
      },
      "execution_count": null,
      "outputs": []
    },
    {
      "cell_type": "markdown",
      "source": [
        "## Agent Prompts"
      ],
      "metadata": {
        "id": "7FyYiXchnYMv"
      }
    },
    {
      "cell_type": "code",
      "source": [
        "EDITOR_PROMPT = \"\"\"\n",
        "Rewrite for maximum social media engagement:\n",
        "\n",
        "- Use attention-grabbing, concise language\n",
        "- Inject personality and humor\n",
        "- Optimize formatting (short paragraphs)\n",
        "- Encourage interaction (questions, calls-to-action)\n",
        "- Ensure perfect grammar and spelling\n",
        "- Rewrite from first person perspective, when talking to an audience\n",
        "\n",
        "Use only the information provided in the text. Think carefully\n",
        "\"\"\""
      ],
      "metadata": {
        "id": "vUoyy6MfnaSe"
      },
      "execution_count": 2,
      "outputs": []
    },
    {
      "cell_type": "code",
      "source": [
        "TWITTER_PROMPT = \"\"\"\n",
        "Generate a hih-engagement tweet from the given text:\n",
        "1. What problem does this solve?\n",
        "2. Focus on the main technical points/features\n",
        "3. Write a short, coherent paragraph (2-3 sentences max)\n",
        "4. Use natural, conversational language\n",
        "5. Optimize for virality: make it intriguing, relatable, or controversial\n",
        "6. Exclude emojis and hashtags\n",
        "\"\"\""
      ],
      "metadata": {
        "id": "IQdn7JGDoByS"
      },
      "execution_count": 3,
      "outputs": []
    },
    {
      "cell_type": "code",
      "source": [
        "TWITTER_CRITIC_PROMPT = \"\"\"\n",
        "You are a Tweet Critic Agent. Your task is to analyze tweets and provide actionable feedback to make them more engaging, focus on:\n",
        "\n",
        "1. Clarity: Is the message clear and easy to understand?\n",
        "2. Hook: Does it grab attention in the first few words?\n",
        "3. Brevity: Is it concise while maintaining impact?\n",
        "4. Call-to-action: Does it encourage interaction or sharing?\n",
        "5. Tone: Is it appropriate for the intended audience?\n",
        "6. Storytelling: Does it evoke curiosity?\n",
        "7. Remove hype: Does it promise more than it delivers?\n",
        "\n",
        "Provide 2-3 specific suggestions to improve the tweet's engagement potential.\n",
        "Do not suggest hashtags. Keep your feedback concise and actionable.\n",
        "\n",
        "Your goal is to help the writer improve their social media writing skills and increase engegement with their posts.\n",
        "\"\"\""
      ],
      "metadata": {
        "id": "H05kEClVomBf"
      },
      "execution_count": 4,
      "outputs": []
    },
    {
      "cell_type": "code",
      "source": [
        "LINKEDIN_PROMPT = \"\"\"\n",
        "Write a compelling LinkedIn post from the given text. Structure it as follows:\n",
        "\n",
        "1. Eye-catching headline (5-7 words)\n",
        "2. Identify a key problem or challenge\n",
        "3. Provide a bullet list of key benefits/features\n",
        "4. Highlight a clear benefit or solution\n",
        "5. Conclude with a thought-provoking question\n",
        "\n",
        "Maintain a professional, informative tone. Avoid emojis and hashtags.\n",
        "Keep the post concise (50-80 words) and relevant to the industry.\n",
        "Focus on providing valuable insights or actionable takeaways that will resonate with professionals in the field.\n",
        "\"\"\""
      ],
      "metadata": {
        "id": "-HuN-pvEptUB"
      },
      "execution_count": 5,
      "outputs": []
    },
    {
      "cell_type": "code",
      "source": [
        "LINKEDIN_CRITIC_PROMPT = \"\"\"\n",
        "Your role is to analyze LinkedIn posts and provide actionable feedback to make them more engaging.\n",
        "Focus on the following aspects:\n",
        "\n",
        "1. Hook: Evaluate the opening line's ability to grab attention\n",
        "2. Structure: Assess the post's flow and readability\n",
        "3. Content value: Determine if the post provides useful information or insights.\n",
        "4. Call-to-action: Check if there's a clear next step for readers.\n",
        "5. Language: Suggest improvements in tone, style, and word choice\n",
        "6. Visual elements: Recommend additions or changes to images, videos, or formatting.\n",
        "\n",
        "For each aspect, provide:\n",
        "- A brief assessment (1-2 sentences)\n",
        "- A specific suggestion for improvement\n",
        "- A concise example of the suggested change\n",
        "\n",
        "Conclude with an overall recommendation for the most impactful change the author can make to increase engagement.\n",
        "Your goal is to help the writer improve their social media writing skills and increase engagement with posts.\n",
        "\"\"\""
      ],
      "metadata": {
        "id": "CIVXJ6ULqZUl"
      },
      "execution_count": 7,
      "outputs": []
    },
    {
      "cell_type": "code",
      "source": [
        "from pydantic import BaseModel\n",
        "from typing import List, Optional, TypedDict\n",
        "#state\n",
        "class Post(BaseModel):\n",
        "  \"\"\"A post written in different versions\"\"\"\n",
        "\n",
        "  drafts: List[str]\n",
        "  feedback: Optional[str]\n",
        "\n",
        "class State(TypedDict):\n",
        "  user_text: str\n",
        "  target_audience: str\n",
        "  edit_text: str\n",
        "  tweet: Post\n",
        "  linkedin_post: Post\n",
        "  n_drafts: int"
      ],
      "metadata": {
        "id": "GBDsVPrvreEu"
      },
      "execution_count": 9,
      "outputs": []
    },
    {
      "cell_type": "code",
      "source": [
        "from langchain_groq import ChatGroq\n",
        "\n",
        "llm = ChatGroq(temperature=0, model_name=\"llama-3.3-70b-versatile\", api_key=\"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\")"
      ],
      "metadata": {
        "id": "Ud58T7gqsqMJ"
      },
      "execution_count": 10,
      "outputs": []
    },
    {
      "cell_type": "code",
      "source": [
        "from langchain_core.messages import SystemMessage, HumanMessage\n",
        "\n",
        "#nodes\n",
        "def editor_node(state: State):\n",
        "  prompt = f\"\"\"\n",
        "  text:\n",
        "  ```\n",
        "  {state[\"user_text\"]}\n",
        "  ```\n",
        "  \"\"\".strip()\n",
        "  response = llm.invoke([SystemMessage(EDITOR_PROMPT), HumanMessage(prompt)])\n",
        "  return {\"edit_text\": response.content}"
      ],
      "metadata": {
        "id": "w9t76NNfr4Kt"
      },
      "execution_count": 13,
      "outputs": []
    },
    {
      "cell_type": "code",
      "source": [
        "def tweet_writer_node(state: State):\n",
        "\n",
        "  post = state[\"tweet\"]\n",
        "\n",
        "  feedback_prompt = (\n",
        "      \"\"\n",
        "      if not post.feedback\n",
        "      else f\"\"\"\n",
        "            Tweet:\n",
        "            ```\n",
        "            {post.drafts[-1]}\n",
        "            ```\n",
        "            Use the feeback to improve it:\n",
        "            ```\n",
        "            {post.feedback}\n",
        "            ```\n",
        "            \"\"\".strip()\n",
        "  )\n",
        "\n",
        "  prompt = f\"\"\"\n",
        "            text:\n",
        "            ```\n",
        "            {state[\"edit_text\"]}\n",
        "            ```\n",
        "\n",
        "            {feedback_prompt}\n",
        "\n",
        "            Target audience: {state[\"target_audience\"]}\n",
        "\n",
        "            Write only the text for the post\n",
        "            \"\"\".strip()\n",
        "\n",
        "  response = llm.invoke([SystemMessage(TWITTER_PROMPT), HumanMessage(prompt)])\n",
        "  post.drafts.append(response.content)\n",
        "  return {\"tweet\": post}"
      ],
      "metadata": {
        "id": "ileZqNI8tH12"
      },
      "execution_count": 14,
      "outputs": []
    },
    {
      "cell_type": "code",
      "source": [
        "def linkedin_writer_node(state: State):\n",
        "\n",
        "  post = state[\"linkedin_post\"]\n",
        "\n",
        "  feedback_prompt = (\n",
        "      \"\"\n",
        "      if not post.feedback\n",
        "      else f\"\"\"\n",
        "      LinkedIn post:\n",
        "      ```\n",
        "      {post.drafts[-1]}\n",
        "      ```\n",
        "      Use the feedback to improve it:\n",
        "      ```\n",
        "      {post.feedback}\n",
        "      ```\n",
        "      \"\"\".strip()\n",
        "  )\n",
        "\n",
        "  prompt = f\"\"\"\n",
        "  text:\n",
        "  ```\n",
        "  {state[\"edit_text\"]}\n",
        "  ```\n",
        "  {feedback_prompt}\n",
        "  Target Audience: {state[\"target_audience\"]}\n",
        "  write only the text for the post\n",
        "  \"\"\".strip()\n",
        "\n",
        "  response = llm.invoke([SystemMessage(LINKEDIN_PROMPT), HumanMessage(prompt)])\n",
        "  post.drafts.append(response.content)\n",
        "  return {\"linkedin_post\": post}"
      ],
      "metadata": {
        "id": "ncsplJOeud81"
      },
      "execution_count": 15,
      "outputs": []
    },
    {
      "cell_type": "code",
      "source": [],
      "metadata": {
        "id": "s293CPE_vS-7"
      },
      "execution_count": null,
      "outputs": []
    }
  ]
}