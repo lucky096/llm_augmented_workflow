{
  "nbformat": 4,
  "nbformat_minor": 0,
  "metadata": {
    "colab": {
      "provenance": [],
      "authorship_tag": "ABX9TyOmnwJFd2eupsfqx+TlFVZP",
      "include_colab_link": true
    },
    "kernelspec": {
      "name": "python3",
      "display_name": "Python 3"
    },
    "language_info": {
      "name": "python"
    }
  },
  "cells": [
    {
      "cell_type": "markdown",
      "metadata": {
        "id": "view-in-github",
        "colab_type": "text"
      },
      "source": [
        "<a href=\"https://colab.research.google.com/github/lucky096/llm_augmented_workflow/blob/main/SocialMediaAgents.ipynb\" target=\"_parent\"><img src=\"https://colab.research.google.com/assets/colab-badge.svg\" alt=\"Open In Colab\"/></a>"
      ]
    },
    {
      "cell_type": "code",
      "execution_count": 36,
      "metadata": {
        "id": "zE-ptsy-muZz"
      },
      "outputs": [],
      "source": [
        "!pip install -Uqqq pip --progress-bar off\n",
        "!pip install -qqq langchain_groq==0.2.0 --progress-bar off\n",
        "!pip install -qqq langgraph==0.2.22 --progress-bar off"
      ]
    },
    {
      "cell_type": "code",
      "source": [],
      "metadata": {
        "id": "PflUmTwfnR1-"
      },
      "execution_count": 36,
      "outputs": []
    },
    {
      "cell_type": "markdown",
      "source": [
        "## Agent Prompts"
      ],
      "metadata": {
        "id": "7FyYiXchnYMv"
      }
    },
    {
      "cell_type": "code",
      "source": [
        "EDITOR_PROMPT = \"\"\"\n",
        "Rewrite for maximum social media engagement:\n",
        "\n",
        "- Use attention-grabbing, concise language\n",
        "- Inject personality and humor\n",
        "- Optimize formatting (short paragraphs)\n",
        "- Encourage interaction (questions, calls-to-action)\n",
        "- Ensure perfect grammar and spelling\n",
        "- Rewrite from first person perspective, when talking to an audience\n",
        "\n",
        "Use only the information provided in the text. Think carefully\n",
        "\"\"\""
      ],
      "metadata": {
        "id": "vUoyy6MfnaSe"
      },
      "execution_count": 37,
      "outputs": []
    },
    {
      "cell_type": "code",
      "source": [
        "TWITTER_PROMPT = \"\"\"\n",
        "Generate a hih-engagement tweet from the given text:\n",
        "1. What problem does this solve?\n",
        "2. Focus on the main technical points/features\n",
        "3. Write a short, coherent paragraph (2-3 sentences max)\n",
        "4. Use natural, conversational language\n",
        "5. Optimize for virality: make it intriguing, relatable, or controversial\n",
        "6. Exclude emojis and hashtags\n",
        "\"\"\""
      ],
      "metadata": {
        "id": "IQdn7JGDoByS"
      },
      "execution_count": 38,
      "outputs": []
    },
    {
      "cell_type": "code",
      "source": [
        "TWITTER_CRITIC_PROMPT = \"\"\"\n",
        "You are a Tweet Critic Agent. Your task is to analyze tweets and provide actionable feedback to make them more engaging, focus on:\n",
        "\n",
        "1. Clarity: Is the message clear and easy to understand?\n",
        "2. Hook: Does it grab attention in the first few words?\n",
        "3. Brevity: Is it concise while maintaining impact?\n",
        "4. Call-to-action: Does it encourage interaction or sharing?\n",
        "5. Tone: Is it appropriate for the intended audience?\n",
        "6. Storytelling: Does it evoke curiosity?\n",
        "7. Remove hype: Does it promise more than it delivers?\n",
        "\n",
        "Provide 2-3 specific suggestions to improve the tweet's engagement potential.\n",
        "Do not suggest hashtags. Keep your feedback concise and actionable.\n",
        "\n",
        "Your goal is to help the writer improve their social media writing skills and increase engegement with their posts.\n",
        "\"\"\""
      ],
      "metadata": {
        "id": "H05kEClVomBf"
      },
      "execution_count": 39,
      "outputs": []
    },
    {
      "cell_type": "code",
      "source": [
        "LINKEDIN_PROMPT = \"\"\"\n",
        "Write a compelling LinkedIn post from the given text. Structure it as follows:\n",
        "\n",
        "1. Eye-catching headline (5-7 words)\n",
        "2. Identify a key problem or challenge\n",
        "3. Provide a bullet list of key benefits/features\n",
        "4. Highlight a clear benefit or solution\n",
        "5. Conclude with a thought-provoking question\n",
        "\n",
        "Maintain a professional, informative tone. Avoid emojis and hashtags.\n",
        "Keep the post concise (50-80 words) and relevant to the industry.\n",
        "Focus on providing valuable insights or actionable takeaways that will resonate with professionals in the field.\n",
        "\"\"\""
      ],
      "metadata": {
        "id": "-HuN-pvEptUB"
      },
      "execution_count": 40,
      "outputs": []
    },
    {
      "cell_type": "code",
      "source": [
        "LINKEDIN_CRITIC_PROMPT = \"\"\"\n",
        "Your role is to analyze LinkedIn posts and provide actionable feedback to make them more engaging.\n",
        "Focus on the following aspects:\n",
        "\n",
        "1. Hook: Evaluate the opening line's ability to grab attention\n",
        "2. Structure: Assess the post's flow and readability\n",
        "3. Content value: Determine if the post provides useful information or insights.\n",
        "4. Call-to-action: Check if there's a clear next step for readers.\n",
        "5. Language: Suggest improvements in tone, style, and word choice\n",
        "6. Visual elements: Recommend additions or changes to images, videos, or formatting.\n",
        "\n",
        "For each aspect, provide:\n",
        "- A brief assessment (1-2 sentences)\n",
        "- A specific suggestion for improvement\n",
        "- A concise example of the suggested change\n",
        "\n",
        "Conclude with an overall recommendation for the most impactful change the author can make to increase engagement.\n",
        "Your goal is to help the writer improve their social media writing skills and increase engagement with posts.\n",
        "\"\"\""
      ],
      "metadata": {
        "id": "CIVXJ6ULqZUl"
      },
      "execution_count": 41,
      "outputs": []
    },
    {
      "cell_type": "code",
      "source": [
        "from pydantic import BaseModel\n",
        "from typing import List, Optional, TypedDict\n",
        "#state\n",
        "class Post(BaseModel):\n",
        "  \"\"\"A post written in different versions\"\"\"\n",
        "\n",
        "  drafts: List[str]\n",
        "  feedback: Optional[str]\n",
        "\n",
        "class State(TypedDict):\n",
        "  user_text: str\n",
        "  target_audience: str\n",
        "  edit_text: str\n",
        "  tweet: Post\n",
        "  linkedin_post: Post\n",
        "  n_drafts: int"
      ],
      "metadata": {
        "id": "GBDsVPrvreEu"
      },
      "execution_count": 42,
      "outputs": []
    },
    {
      "cell_type": "code",
      "source": [
        "from langchain_groq import ChatGroq\n",
        "\n",
        "llm = ChatGroq(temperature=0, model_name=\"llama-3.3-70b-versatile\", api_key=\"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\")"
      ],
      "metadata": {
        "id": "Ud58T7gqsqMJ"
      },
      "execution_count": 43,
      "outputs": []
    },
    {
      "cell_type": "code",
      "source": [
        "from langchain_core.messages import SystemMessage, HumanMessage\n",
        "\n",
        "#nodes\n",
        "def editor_node(state: State):\n",
        "  prompt = f\"\"\"\n",
        "  text:\n",
        "  ```\n",
        "  {state[\"user_text\"]}\n",
        "  ```\n",
        "  \"\"\".strip()\n",
        "  response = llm.invoke([SystemMessage(EDITOR_PROMPT), HumanMessage(prompt)])\n",
        "  return {\"edit_text\": response.content}"
      ],
      "metadata": {
        "id": "w9t76NNfr4Kt"
      },
      "execution_count": 44,
      "outputs": []
    },
    {
      "cell_type": "code",
      "source": [
        "def tweet_writer_node(state: State):\n",
        "\n",
        "  post = state[\"tweet\"]\n",
        "\n",
        "  feedback_prompt = (\n",
        "      \"\"\n",
        "      if not post.feedback\n",
        "      else f\"\"\"\n",
        "            Tweet:\n",
        "            ```\n",
        "            {post.drafts[-1]}\n",
        "            ```\n",
        "            Use the feeback to improve it:\n",
        "            ```\n",
        "            {post.feedback}\n",
        "            ```\n",
        "            \"\"\".strip()\n",
        "  )\n",
        "\n",
        "  prompt = f\"\"\"\n",
        "            text:\n",
        "            ```\n",
        "            {state[\"edit_text\"]}\n",
        "            ```\n",
        "\n",
        "            {feedback_prompt}\n",
        "\n",
        "            Target audience: {state[\"target_audience\"]}\n",
        "\n",
        "            Write only the text for the post\n",
        "            \"\"\".strip()\n",
        "\n",
        "  response = llm.invoke([SystemMessage(TWITTER_PROMPT), HumanMessage(prompt)])\n",
        "  post.drafts.append(response.content)\n",
        "  return {\"tweet\": post}"
      ],
      "metadata": {
        "id": "ileZqNI8tH12"
      },
      "execution_count": 45,
      "outputs": []
    },
    {
      "cell_type": "code",
      "source": [
        "def linkedin_writer_node(state: State):\n",
        "\n",
        "  post = state[\"linkedin_post\"]\n",
        "\n",
        "  feedback_prompt = (\n",
        "      \"\"\n",
        "      if not post.feedback\n",
        "      else f\"\"\"\n",
        "      LinkedIn post:\n",
        "      ```\n",
        "      {post.drafts[-1]}\n",
        "      ```\n",
        "      Use the feedback to improve it:\n",
        "      ```\n",
        "      {post.feedback}\n",
        "      ```\n",
        "      \"\"\".strip()\n",
        "  )\n",
        "\n",
        "  prompt = f\"\"\"\n",
        "  text:\n",
        "  ```\n",
        "  {state[\"edit_text\"]}\n",
        "  ```\n",
        "  {feedback_prompt}\n",
        "  Target Audience: {state[\"target_audience\"]}\n",
        "  write only the text for the post\n",
        "  \"\"\".strip()\n",
        "\n",
        "  response = llm.invoke([SystemMessage(LINKEDIN_PROMPT), HumanMessage(prompt)])\n",
        "  post.drafts.append(response.content)\n",
        "  return {\"linkedin_post\": post}"
      ],
      "metadata": {
        "id": "ncsplJOeud81"
      },
      "execution_count": 46,
      "outputs": []
    },
    {
      "cell_type": "code",
      "source": [
        "def critic_tweet_node(state: State):\n",
        "  post = state[\"tweet\"]\n",
        "\n",
        "  prompt = f\"\"\"\n",
        "  Full post:\n",
        "  ```\n",
        "  {state[\"edit_text\"]}\n",
        "  ```\n",
        "  Suggested tweet (critique this):\n",
        "  ```\n",
        "  {post.drafts[-1]}\n",
        "  ```\n",
        "  Target audience: {state[\"target_audience\"]}\n",
        "  \"\"\".strip()\n",
        "\n",
        "  response = llm.invoke(\n",
        "      [SystemMessage(TWITTER_CRITIC_PROMPT), HumanMessage(prompt)]\n",
        "  )\n",
        "\n",
        "  post.feedback = response.content\n",
        "  return {\"tweet\": post}"
      ],
      "metadata": {
        "id": "s293CPE_vS-7"
      },
      "execution_count": 47,
      "outputs": []
    },
    {
      "cell_type": "code",
      "source": [
        "def critic_linkedin_node(state: State):\n",
        "  post = state[\"linkedin_post\"]\n",
        "\n",
        "  prompt = f\"\"\"\n",
        "  Full post:\n",
        "  ```\n",
        "  {state[\"edit_text\"]}\n",
        "  ```\n",
        "\n",
        "  Suggested LinkedIn post (critique this):\n",
        "  ```\n",
        "  {post.drafts[-1]}\n",
        "  ```\n",
        "\n",
        "  Target audience: {state[\"target_audience\"]}\n",
        "  \"\"\".strip()\n",
        "\n",
        "  response = llm.invoke(\n",
        "      [SystemMessage(LINKEDIN_CRITIC_PROMPT), HumanMessage(prompt)]\n",
        "  )\n",
        "\n",
        "  post.feedback = response.content\n",
        "  return {\"linkedin_post\": post}"
      ],
      "metadata": {
        "id": "yfwC0Tl1o6mw"
      },
      "execution_count": 48,
      "outputs": []
    },
    {
      "cell_type": "code",
      "source": [
        "def supervisor_node(state: State):\n",
        "  return state"
      ],
      "metadata": {
        "id": "RaDPJ-euppDR"
      },
      "execution_count": 49,
      "outputs": []
    },
    {
      "cell_type": "code",
      "source": [
        "#edges\n",
        "from typing import Literal\n",
        "from langgraph.graph import END, START, StateGraph\n",
        "\n",
        "def should_rewrite(state: State) -> Literal[[\"linkedin_critic\", \"tweet_critic\"], END]:\n",
        "  tweet = state[\"tweet\"]\n",
        "  linkedin_post = state[\"linkedin_post\"]\n",
        "  n_drafts = state[\"n_drafts\"]\n",
        "  if len(tweet.drafts)>= n_drafts and len(linkedin_post.drafts)>=n_drafts:\n",
        "    return END\n",
        "  return [\"linkedin_critic\", \"tweet_critic\"]"
      ],
      "metadata": {
        "id": "6iyKEOgXpsz3"
      },
      "execution_count": 50,
      "outputs": []
    },
    {
      "cell_type": "code",
      "source": [
        "#build graph\n",
        "\n",
        "graph = StateGraph(State)\n",
        "\n",
        "graph.add_node(\"editor\", editor_node)\n",
        "graph.add_node(\"tweet_writer\", tweet_writer_node)\n",
        "graph.add_node(\"tweet_critic\", critic_tweet_node)\n",
        "graph.add_node(\"linkedin_writer\", linkedin_writer_node)\n",
        "graph.add_node(\"linkedin_critic\", critic_linkedin_node)\n",
        "graph.add_node(\"supervisor\", supervisor_node)\n",
        "\n",
        "graph.add_edge(START, \"editor\")\n",
        "graph.add_edge(\"editor\", \"linkedin_writer\")\n",
        "graph.add_edge(\"editor\", \"tweet_writer\")\n",
        "\n",
        "graph.add_edge(\"linkedin_writer\", \"supervisor\")\n",
        "graph.add_edge(\"tweet_writer\", \"supervisor\")\n",
        "graph.add_conditional_edges(\"supervisor\", should_rewrite)\n",
        "\n",
        "graph.add_edge(\"tweet_critic\", \"tweet_writer\")\n",
        "graph.add_edge(\"linkedin_critic\", \"linkedin_writer\")\n",
        "\n",
        "app = graph.compile()"
      ],
      "metadata": {
        "id": "KnKVBb9pqTlq"
      },
      "execution_count": 51,
      "outputs": []
    },
    {
      "cell_type": "code",
      "source": [
        "from IPython.display import display, Image\n",
        "\n",
        "display(Image(app.get_graph().draw_mermaid_png()))"
      ],
      "metadata": {
        "colab": {
          "base_uri": "https://localhost:8080/",
          "height": 563
        },
        "id": "UCgMZ6MIsJMq",
        "outputId": "bb0b349d-7784-4ff1-b601-aae20bfda97b"
      },
      "execution_count": 52,
      "outputs": [
        {
          "output_type": "display_data",
          "data": {
            "image/png": "[encoded data removed]",
            "text/plain": [
              "<IPython.core.display.Image object>"
            ]
          },
          "metadata": {}
        }
      ]
    },
    {
      "cell_type": "code",
      "source": [
        "%%time\n",
        "config = {\"configurable\": {\"thread_id\": 42}}\n",
        "\n",
        "user_text = \"\"\"\n",
        "With 22 billion parameters, Mistral Small v24.09 offers customers a convenient mid-point between Mistral NeMo 12B and Mistral Large 2,\n",
        "providing a cost-effective solution that can be deployed across various platforms and environments.\n",
        "The new small model delivers significant improvements in human alignment, reasoning capabilities, and code over the previous model.\n",
        "\n",
        "Mistral-Small-Instruct-2409 is an instruct fine-tuned version with the following characteristics:\n",
        "\n",
        "- 22B parameters\n",
        "- Vocabulary to 32768\n",
        "- Supports function calling\n",
        "- 128k sequence length\n",
        "\n",
        "Mistral Small v24.09 is released under the MRL license. You may self-deploy it for non-commercial purposes, using e.g. vLLM\n",
        "\n",
        "Weights on HuggingFace hub: https://huggingface.co/mistralai/Mistral-Small-Instruct-2409\n",
        "\"\"\"\n",
        "\n",
        "state = app.invoke(\n",
        "    {\n",
        "        \"user_text\": user_text,\n",
        "        \"target_audience\": \"AI/ML engineers and researchers, Data Scientists\",\n",
        "        \"tweet\": Post(drafts=[], feedback=None),\n",
        "        \"linkedin_post\": Post(drafts=[], feedback=None),\n",
        "        \"n_drafts\": 3,\n",
        "    },\n",
        "    config=config,\n",
        ")\n",
        "\n"
      ],
      "metadata": {
        "colab": {
          "base_uri": "https://localhost:8080/"
        },
        "id": "rFtHM7Rnsly5",
        "outputId": "fdb12043-de82-4c25-ca52-5a4089bb02a5"
      },
      "execution_count": 53,
      "outputs": [
        {
          "output_type": "stream",
          "name": "stdout",
          "text": [
            "CPU times: user 361 ms, sys: 36 ms, total: 397 ms\n",
            "Wall time: 44.6 s\n"
          ]
        }
      ]
    },
    {
      "cell_type": "code",
      "source": [
        "print(state[\"tweet\"].feedback)"
      ],
      "metadata": {
        "colab": {
          "base_uri": "https://localhost:8080/"
        },
        "id": "3ukTM6Mht5Pz",
        "outputId": "150202c4-3c36-4c53-a86e-34619c91fe1e"
      },
      "execution_count": 54,
      "outputs": [
        {
          "output_type": "stream",
          "name": "stdout",
          "text": [
            "Here are 3 specific suggestions to improve the tweet's engagement potential:\n",
            "\n",
            "1. **Start with a stronger hook**: Instead of \"Revolutionize your AI projects\", consider \"Unlock 22B parameters of AI power\" to grab attention immediately.\n",
            "2. **Make it more concise**: The tweet is a bit long; try to condense it to focus on the key benefits, such as \"Cost-effective AI model with 22B parameters, improved human alignment, and function calling. Try Mistral Small v24.09 now!\"\n",
            "3. **Add a clear call-to-action**: While the tweet mentions trying the model, make it more explicit by adding \"Share your projects\" or \"Get started now and let us know what you think\" to encourage interaction and sharing.\n"
          ]
        }
      ]
    },
    {
      "cell_type": "code",
      "source": [
        "import textwrap\n",
        "for i, draft in enumerate(state[\"tweet\"].drafts):\n",
        "    print(f\"Draft #{i+1}\")\n",
        "    print(\"-\" * 10)\n",
        "    print(textwrap.fill(draft, 80))\n",
        "    print()"
      ],
      "metadata": {
        "colab": {
          "base_uri": "https://localhost:8080/"
        },
        "id": "fbZWSXJptVp7",
        "outputId": "27567bd7-ee18-4977-a76c-d2db630c5d79"
      },
      "execution_count": 56,
      "outputs": [
        {
          "output_type": "stream",
          "name": "stdout",
          "text": [
            "Draft #1\n",
            "----------\n",
            "Introducing Mistral Small v24.09, a cost-effective AI model with 22 billion\n",
            "parameters that delivers significant improvements in human alignment, reasoning\n",
            "capabilities, and code, making it a game-changer for AI/ML engineers and\n",
            "researchers. This model offers a unique combination of performance and\n",
            "flexibility, supporting function calling and a 128k sequence length. With its\n",
            "release under the MRL license, you can self-deploy Mistral Small v24.09 for non-\n",
            "commercial purposes and explore its capabilities.\n",
            "\n",
            "Draft #2\n",
            "----------\n",
            "Revolutionize your AI projects with Mistral Small v24.09, a cost-effective model\n",
            "that delivers significant improvements in human alignment, reasoning\n",
            "capabilities, and code. With 22 billion parameters and support for function\n",
            "calling, this model is a game-changer for AI/ML engineers and researchers,\n",
            "offering unparalleled flexibility and performance. Try Mistral Small v24.09 now\n",
            "and explore its capabilities under the MRL license for non-commercial use.\n",
            "\n",
            "Draft #3\n",
            "----------\n",
            "Unlock 22B parameters of AI power with Mistral Small v24.09, a cost-effective\n",
            "model that boosts human alignment, reasoning, and code capabilities. Try it now\n",
            "and share your projects, exploring its full potential under the MRL license for\n",
            "non-commercial use.\n",
            "\n"
          ]
        }
      ]
    },
    {
      "cell_type": "code",
      "source": [
        "print(state[\"linkedin_post\"].feedback)"
      ],
      "metadata": {
        "colab": {
          "base_uri": "https://localhost:8080/"
        },
        "id": "_Xce0r7DuDhc",
        "outputId": "6d7c818d-e459-465e-8125-e3d118204b50"
      },
      "execution_count": 57,
      "outputs": [
        {
          "output_type": "stream",
          "name": "stdout",
          "text": [
            "### Hook\n",
            "Assessment: The suggested LinkedIn post starts with a clear and concise statement about a breakthrough in AI deployment, which is likely to grab the attention of AI/ML engineers and researchers. However, it may not be as engaging as a more personalized or surprising opening.\n",
            "Suggestion: Use a more thought-provoking or intriguing opening line that highlights the significance of the breakthrough.\n",
            "Example: \"Imagine deploying AI models without breaking the bank - our latest innovation, Mistral Small v24.09, makes this a reality with 22B parameters and enhanced human alignment.\"\n",
            "\n",
            "### Structure\n",
            "Assessment: The post is very concise, which is good for readability, but it lacks a clear flow of ideas and may leave readers wanting more information.\n",
            "Suggestion: Expand the post to provide a brief overview of the benefits and features of Mistral Small v24.09, while still keeping it concise.\n",
            "Example: \"Breakthrough in AI Deployment: Introducing Mistral Small v24.09. This cost-effective solution offers 22B parameters, enhanced human alignment, and improved reasoning capabilities, making it perfect for deployment in various projects.\"\n",
            "\n",
            "### Content Value\n",
            "Assessment: The post provides some useful information about the features of Mistral Small v24.09, but it could benefit from more insights or explanations about its benefits and potential applications.\n",
            "Suggestion: Add more context or explanations about the significance of the features and how they can be used in real-world projects.\n",
            "Example: \"Breakthrough in AI Deployment: Introducing Mistral Small v24.09. With 22B parameters and enhanced human alignment, this model can be used for tasks like natural language processing, sentiment analysis, and more, making it a valuable tool for data scientists and researchers.\"\n",
            "\n",
            "### Call-to-Action\n",
            "Assessment: The post ends with a question about what projects readers will deploy Mistral Small v24.09 on, which is a good start, but it could be more direct and actionable.\n",
            "Suggestion: Add a clearer call-to-action, such as encouraging readers to try out the model or share their experiences.\n",
            "Example: \"Breakthrough in AI Deployment: Introducing Mistral Small v24.09. Try it out now and share your projects with us in the comments - we'd love to see what you're working on!\"\n",
            "\n",
            "### Language\n",
            "Assessment: The language is clear and concise, but it may benefit from a more engaging and conversational tone.\n",
            "Suggestion: Use a more approachable and enthusiastic tone to make the post more engaging and encouraging.\n",
            "Example: \"We're excited to introduce Mistral Small v24.09, a game-changing AI model that's perfect for deployment in various projects. With its 22B parameters and enhanced human alignment, you'll be able to take your projects to the next level - so what are you waiting for?\"\n",
            "\n",
            "### Visual Elements\n",
            "Assessment: The post lacks visual elements, which can make it less engaging and attention-grabbing.\n",
            "Suggestion: Add an image, graphic, or video that illustrates the features and benefits of Mistral Small v24.09.\n",
            "Example: Add a screenshot of the model's performance on a specific task, or a graphic that shows the comparison between Mistral Small v24.09 and other models.\n",
            "\n",
            "Overall Recommendation:\n",
            "The most impactful change the author can make to increase engagement is to add more context and explanations about the benefits and potential applications of Mistral Small v24.09, while also using a more approachable and enthusiastic tone. By providing more value and insights, the author can encourage readers to engage with the post and try out the model. For example:\n",
            "\n",
            "\"Breakthrough in AI Deployment: Introducing Mistral Small v24.09. This cost-effective solution offers 22B parameters, enhanced human alignment, and improved reasoning capabilities, making it perfect for deployment in various projects, such as natural language processing, sentiment analysis, and more. Try it out now and share your projects with us in the comments - we'd love to see what you're working on!\"\n"
          ]
        }
      ]
    },
    {
      "cell_type": "code",
      "source": [
        "\n",
        "for i, draft in enumerate(state[\"linkedin_post\"].drafts):\n",
        "    print(f\"Draft #{i+1}\")\n",
        "    print(\"-\" * 10)\n",
        "    print(draft)\n",
        "    print()\n",
        ""
      ],
      "metadata": {
        "colab": {
          "base_uri": "https://localhost:8080/"
        },
        "id": "DCdWzouZuE74",
        "outputId": "6faaa10d-ed35-471f-e822-fd7fb19adfc8"
      },
      "execution_count": 58,
      "outputs": [
        {
          "output_type": "stream",
          "name": "stdout",
          "text": [
            "Draft #1\n",
            "----------\n",
            "Revolutionary AI Model Released\n",
            "Solving deployment cost challenges, Mistral Small v24.09 offers:\n",
            "* 22B parameters\n",
            "* Enhanced human alignment\n",
            "* Improved reasoning capabilities\n",
            "Delivering a cost-effective solution, what projects will you deploy it on?\n",
            "\n",
            "Draft #2\n",
            "----------\n",
            "Breakthrough in AI Deployment: Introducing Mistral Small v24.09. Solving deployment cost challenges, it offers:\n",
            "* 22B parameters\n",
            "* Enhanced human alignment\n",
            "* Improved reasoning capabilities\n",
            "What projects will you deploy it on?\n",
            "\n",
            "Draft #3\n",
            "----------\n",
            "Breakthrough in AI Deployment: Introducing Mistral Small v24.09. This cost-effective solution offers \n",
            "* 22B parameters\n",
            "* Enhanced human alignment\n",
            "* Improved reasoning capabilities, making it perfect for deployment in various projects. What projects will you deploy it on?\n",
            "\n"
          ]
        }
      ]
    },
    {
      "cell_type": "code",
      "source": [],
      "metadata": {
        "id": "gATYF1RVuNJJ"
      },
      "execution_count": null,
      "outputs": []
    }
  ]
}