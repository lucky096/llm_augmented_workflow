{
  "nbformat": 4,
  "nbformat_minor": 0,
  "metadata": {
    "colab": {
      "provenance": [],
      "authorship_tag": "ABX9TyO5kcrfcSX5YRSdHXBJSuAp",
      "include_colab_link": true
    },
    "kernelspec": {
      "name": "python3",
      "display_name": "Python 3"
    },
    "language_info": {
      "name": "python"
    }
  },
  "cells": [
    {
      "cell_type": "markdown",
      "metadata": {
        "id": "view-in-github",
        "colab_type": "text"
      },
      "source": [
        "<a href=\"https://colab.research.google.com/github/lucky096/llm_augmented_workflow/blob/main/Agents.ipynb\" target=\"_parent\"><img src=\"https://colab.research.google.com/assets/colab-badge.svg\" alt=\"Open In Colab\"/></a>"
      ]
    },
    {
      "cell_type": "code",
      "execution_count": null,
      "metadata": {
        "colab": {
          "base_uri": "https://localhost:8080/"
        },
        "id": "nbaiJkbbPsM6",
        "outputId": "ad7cd4f6-f5fd-44ae-b1fa-091d56a36b87"
      },
      "outputs": [
        {
          "output_type": "stream",
          "name": "stdout",
          "text": [
            "Requirement already satisfied: langchain_core in /usr/local/lib/python3.11/dist-packages (0.3.32)\n",
            "Requirement already satisfied: langgraph in /usr/local/lib/python3.11/dist-packages (0.2.69)\n",
            "Collecting langchain-groq\n",
            "  Downloading langchain_groq-0.2.4-py3-none-any.whl.metadata (3.0 kB)\n",
            "Requirement already satisfied: PyYAML>=5.3 in /usr/local/lib/python3.11/dist-packages (from langchain_core) (6.0.2)\n",
            "Requirement already satisfied: jsonpatch<2.0,>=1.33 in /usr/local/lib/python3.11/dist-packages (from langchain_core) (1.33)\n",
            "Requirement already satisfied: langsmith<0.4,>=0.1.125 in /usr/local/lib/python3.11/dist-packages (from langchain_core) (0.3.2)\n",
            "Requirement already satisfied: packaging<25,>=23.2 in /usr/local/lib/python3.11/dist-packages (from langchain_core) (24.2)\n",
            "Requirement already satisfied: pydantic<3.0.0,>=2.5.2 in /usr/local/lib/python3.11/dist-packages (from langchain_core) (2.10.6)\n",
            "Requirement already satisfied: tenacity!=8.4.0,<10.0.0,>=8.1.0 in /usr/local/lib/python3.11/dist-packages (from langchain_core) (9.0.0)\n",
            "Requirement already satisfied: typing-extensions>=4.7 in /usr/local/lib/python3.11/dist-packages (from langchain_core) (4.12.2)\n",
            "Requirement already satisfied: langgraph-checkpoint<3.0.0,>=2.0.10 in /usr/local/lib/python3.11/dist-packages (from langgraph) (2.0.10)\n",
            "Requirement already satisfied: langgraph-sdk<0.2.0,>=0.1.42 in /usr/local/lib/python3.11/dist-packages (from langgraph) (0.1.51)\n",
            "Collecting groq<1,>=0.4.1 (from langchain-groq)\n",
            "  Downloading groq-0.16.0-py3-none-any.whl.metadata (14 kB)\n",
            "Collecting langchain_core\n",
            "  Downloading langchain_core-0.3.33-py3-none-any.whl.metadata (6.3 kB)\n",
            "Requirement already satisfied: anyio<5,>=3.5.0 in /usr/local/lib/python3.11/dist-packages (from groq<1,>=0.4.1->langchain-groq) (3.7.1)\n",
            "Requirement already satisfied: distro<2,>=1.7.0 in /usr/local/lib/python3.11/dist-packages (from groq<1,>=0.4.1->langchain-groq) (1.9.0)\n",
            "Requirement already satisfied: httpx<1,>=0.23.0 in /usr/local/lib/python3.11/dist-packages (from groq<1,>=0.4.1->langchain-groq) (0.28.1)\n",
            "Requirement already satisfied: sniffio in /usr/local/lib/python3.11/dist-packages (from groq<1,>=0.4.1->langchain-groq) (1.3.1)\n",
            "Requirement already satisfied: jsonpointer>=1.9 in /usr/local/lib/python3.11/dist-packages (from jsonpatch<2.0,>=1.33->langchain_core) (3.0.0)\n",
            "Requirement already satisfied: msgpack<2.0.0,>=1.1.0 in /usr/local/lib/python3.11/dist-packages (from langgraph-checkpoint<3.0.0,>=2.0.10->langgraph) (1.1.0)\n",
            "Requirement already satisfied: orjson>=3.10.1 in /usr/local/lib/python3.11/dist-packages (from langgraph-sdk<0.2.0,>=0.1.42->langgraph) (3.10.15)\n",
            "Requirement already satisfied: requests<3,>=2 in /usr/local/lib/python3.11/dist-packages (from langsmith<0.4,>=0.1.125->langchain_core) (2.32.3)\n",
            "Requirement already satisfied: requests-toolbelt<2.0.0,>=1.0.0 in /usr/local/lib/python3.11/dist-packages (from langsmith<0.4,>=0.1.125->langchain_core) (1.0.0)\n",
            "Requirement already satisfied: zstandard<0.24.0,>=0.23.0 in /usr/local/lib/python3.11/dist-packages (from langsmith<0.4,>=0.1.125->langchain_core) (0.23.0)\n",
            "Requirement already satisfied: annotated-types>=0.6.0 in /usr/local/lib/python3.11/dist-packages (from pydantic<3.0.0,>=2.5.2->langchain_core) (0.7.0)\n",
            "Requirement already satisfied: pydantic-core==2.27.2 in /usr/local/lib/python3.11/dist-packages (from pydantic<3.0.0,>=2.5.2->langchain_core) (2.27.2)\n",
            "Requirement already satisfied: idna>=2.8 in /usr/local/lib/python3.11/dist-packages (from anyio<5,>=3.5.0->groq<1,>=0.4.1->langchain-groq) (3.10)\n",
            "Requirement already satisfied: certifi in /usr/local/lib/python3.11/dist-packages (from httpx<1,>=0.23.0->groq<1,>=0.4.1->langchain-groq) (2024.12.14)\n",
            "Requirement already satisfied: httpcore==1.* in /usr/local/lib/python3.11/dist-packages (from httpx<1,>=0.23.0->groq<1,>=0.4.1->langchain-groq) (1.0.7)\n",
            "Requirement already satisfied: h11<0.15,>=0.13 in /usr/local/lib/python3.11/dist-packages (from httpcore==1.*->httpx<1,>=0.23.0->groq<1,>=0.4.1->langchain-groq) (0.14.0)\n",
            "Requirement already satisfied: charset-normalizer<4,>=2 in /usr/local/lib/python3.11/dist-packages (from requests<3,>=2->langsmith<0.4,>=0.1.125->langchain_core) (3.4.1)\n",
            "Requirement already satisfied: urllib3<3,>=1.21.1 in /usr/local/lib/python3.11/dist-packages (from requests<3,>=2->langsmith<0.4,>=0.1.125->langchain_core) (2.3.0)\n",
            "Downloading langchain_groq-0.2.4-py3-none-any.whl (14 kB)\n",
            "Downloading langchain_core-0.3.33-py3-none-any.whl (412 kB)\n",
            "\u001b[2K   \u001b[90m━━━━━━━━━━━━━━━━━━━━━━━━━━━━━━━━━━━━━━━━\u001b[0m \u001b[32m412.7/412.7 kB\u001b[0m \u001b[31m6.6 MB/s\u001b[0m eta \u001b[36m0:00:00\u001b[0m\n",
            "\u001b[?25hDownloading groq-0.16.0-py3-none-any.whl (109 kB)\n",
            "\u001b[2K   \u001b[90m━━━━━━━━━━━━━━━━━━━━━━━━━━━━━━━━━━━━━━━━\u001b[0m \u001b[32m109.7/109.7 kB\u001b[0m \u001b[31m8.1 MB/s\u001b[0m eta \u001b[36m0:00:00\u001b[0m\n",
            "\u001b[?25hInstalling collected packages: groq, langchain_core, langchain-groq\n",
            "  Attempting uninstall: langchain_core\n",
            "    Found existing installation: langchain-core 0.3.32\n",
            "    Uninstalling langchain-core-0.3.32:\n",
            "      Successfully uninstalled langchain-core-0.3.32\n",
            "Successfully installed groq-0.16.0 langchain-groq-0.2.4 langchain_core-0.3.33\n"
          ]
        }
      ],
      "source": [
        "pip install langchain_core langgraph langchain-groq"
      ]
    },
    {
      "cell_type": "code",
      "source": [
        "from langchain_groq import ChatGroq\n",
        "\n",
        "GROQ_API_KEY = \"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\"\n",
        "MODEL = \"llama-3.3-70b-versatile\"\n",
        "\n",
        "llm = ChatGroq(temperature=0, model_name=MODEL, api_key=GROQ_API_KEY)"
      ],
      "metadata": {
        "id": "6W7M4FrZQoFY"
      },
      "execution_count": null,
      "outputs": []
    },
    {
      "cell_type": "code",
      "source": [
        "#schema for structured output\n",
        "from pydantic import BaseModel, Field\n",
        "\n",
        "class SearchQuery(BaseModel):\n",
        "  search_query: str = Field(None, description=\"Search query.\")\n",
        "  justification: str = Field(None, description=\"Why this query is relevant to user's request\")\n",
        "\n",
        "#augment the llm with schema for structured output\n",
        "structured_llm = llm.with_structured_output(SearchQuery)\n",
        "\n",
        "#invoke the augmented llm\n",
        "output = structured_llm.invoke(\"How does Creatinine score related to CKD?\")\n",
        "print(output)\n",
        "\n",
        "#define a tool\n",
        "def multiply(x: int, y: int) -> int:\n",
        "  return x*y\n",
        "\n",
        "#augment llm with tools\n",
        "llm_with_tools = llm.bind_tools([multiply])\n",
        "\n",
        "#invoke the llm with input that triggers the tool call\n",
        "msg = llm_with_tools.invoke(\"What is 12 * 12?\")\n",
        "\n",
        "#get the tool call\n",
        "msg.tool_calls"
      ],
      "metadata": {
        "colab": {
          "base_uri": "https://localhost:8080/"
        },
        "id": "m1BRZi-LPzak",
        "outputId": "3a3d11c0-f156-4f89-b4af-5462451a0e90"
      },
      "execution_count": null,
      "outputs": [
        {
          "output_type": "execute_result",
          "data": {
            "text/plain": [
              "[{'name': 'multiply',\n",
              "  'args': {'x': 12, 'y': 12},\n",
              "  'id': 'call_8djd',\n",
              "  'type': 'tool_call'}]"
            ]
          },
          "metadata": {},
          "execution_count": 11
        }
      ]
    },
    {
      "cell_type": "code",
      "source": [
        "output"
      ],
      "metadata": {
        "colab": {
          "base_uri": "https://localhost:8080/"
        },
        "id": "2AeYK5PsSvMj",
        "outputId": "b3b3cd00-16b4-48a1-bd72-be2454b28870"
      },
      "execution_count": null,
      "outputs": [
        {
          "output_type": "execute_result",
          "data": {
            "text/plain": [
              "SearchQuery(search_query='Creatinine score and CKD relationship', justification='To understand how Creatinine score is related to Chronic Kidney Disease (CKD)')"
            ]
          },
          "metadata": {},
          "execution_count": 12
        }
      ]
    },
    {
      "cell_type": "code",
      "source": [
        "#create tool calling agent\n",
        "from langchain.agents import create_tool_calling_agent, AgentExecutor\n",
        "from langchain_core.prompts import ChatPromptTemplate\n",
        "from langchain_core.tools import tool\n",
        "\n",
        "@tool\n",
        "def multiply(x: int, y: int) -> int:\n",
        "  \"\"\"Multiple x times y \"\"\"\n",
        "  return x*y\n",
        "\n",
        "prompt = ChatPromptTemplate.from_messages([\n",
        "    (\"system\", \"You're a helpful assistant.\"),\n",
        "    (\"human\", \"{input}\"),\n",
        "    (\"placeholder\", \"{agent_scratchpad}\"),\n",
        "])\n",
        "\n",
        "tools = [multiply]\n",
        "agent = create_tool_calling_agent(llm,tools,prompt)\n",
        "agent_executor = AgentExecutor(agent=agent, tools=tools, verbose=True)\n",
        "agent_executor.invoke({\"input\": \"What is 12*12?\"})"
      ],
      "metadata": {
        "colab": {
          "base_uri": "https://localhost:8080/"
        },
        "id": "jSRBVuOxQQS7",
        "outputId": "8180d7a0-9720-48ad-e066-0a47167d3d2e"
      },
      "execution_count": null,
      "outputs": [
        {
          "output_type": "stream",
          "name": "stdout",
          "text": [
            "\n",
            "\n",
            "\u001b[1m> Entering new AgentExecutor chain...\u001b[0m\n",
            "\u001b[32;1m\u001b[1;3m\n",
            "Invoking: `multiply` with `{'x': 12, 'y': 12}`\n",
            "\n",
            "\n",
            "\u001b[0m\u001b[36;1m\u001b[1;3m144\u001b[0m\u001b[32;1m\u001b[1;3mThe answer to 12*12 is 144.\u001b[0m\n",
            "\n",
            "\u001b[1m> Finished chain.\u001b[0m\n"
          ]
        },
        {
          "output_type": "execute_result",
          "data": {
            "text/plain": [
              "{'input': 'What is 12*12?', 'output': 'The answer to 12*12 is 144.'}"
            ]
          },
          "metadata": {},
          "execution_count": 18
        }
      ]
    },
    {
      "cell_type": "markdown",
      "source": [
        "## Prompt Chaining: each LLM call processes the output of the previous one."
      ],
      "metadata": {
        "id": "ugl6jz9PW2ZA"
      }
    },
    {
      "cell_type": "code",
      "source": [
        "from typing_extensions import TypedDict\n",
        "from langgraph.graph import StateGraph, START, END\n",
        "from IPython.display import Image, display\n",
        "\n",
        "#Graph state\n",
        "class State(TypedDict):\n",
        "  topic: str\n",
        "  haiku: str\n",
        "  improved_haiku: str\n",
        "  final_haiku: str\n",
        "\n",
        "#nodes\n",
        "def write_haiku(state: State):\n",
        "  \"\"\"1st LLM call to generate initial haiku\"\"\"\n",
        "\n",
        "  msg = llm.invoke(f\"Write a mini haiku about {state['topic']}\")\n",
        "  return {\"haiku\": msg.content}\n",
        "\n",
        "def check_haiku(state: State):\n",
        "  \"\"\"Conditional function to check if the haiku is good\"\"\"\n",
        "\n",
        "  # simple check - does the haiku contain \"?\" or \"!\"\n",
        "  if \"?\" in state[\"haiku\"] or \"!\" in state[\"haiku\"]:\n",
        "    return \"Fail\"\n",
        "  return \"Pass\"\n",
        "\n",
        "def improve_haiku(state: State):\n",
        "  \"\"\"2nd LLM call to improve the haiku\"\"\"\n",
        "\n",
        "  msg = llm.invoke(f\"Make this haiku interesting by adding similie: {state['haiku']}\")\n",
        "  return {\"improved_haiku\": msg.content}\n",
        "\n",
        "def polish_haiku(state: State):\n",
        "  \"\"\"3rd LLM call for final refinement\"\"\"\n",
        "\n",
        "  msg = llm.invoke(f\"Add a sad ending to this haiku: {state['improved_haiku']}\")\n",
        "  return {\"final_haiku\": msg.content}\n",
        "\n",
        "#build prompt chaining workflow\n",
        "workflow = StateGraph(State)\n",
        "\n",
        "#add nodes\n",
        "workflow.add_node(\"write_haiku\", write_haiku)\n",
        "workflow.add_node(\"check_haiku\", check_haiku)\n",
        "workflow.add_node(\"improve_haiku\", improve_haiku)\n",
        "workflow.add_node(\"polish_haiku\", polish_haiku)\n",
        "\n",
        "#add edges to connect node\n",
        "workflow.add_edge(START, \"write_haiku\")\n",
        "workflow.add_conditional_edges(\"write_haiku\", check_haiku, {\"Fail\": \"improve_haiku\", \"Pass\": END})\n",
        "workflow.add_edge(\"improve_haiku\", \"polish_haiku\")\n",
        "workflow.add_edge(\"polish_haiku\", END)\n",
        "\n",
        "#compile\n",
        "chain = workflow.compile()\n",
        "\n",
        "#display workflow\n",
        "display(Image(chain.get_graph().draw_mermaid_png()))\n",
        "\n"
      ],
      "metadata": {
        "colab": {
          "base_uri": "https://localhost:8080/",
          "height": 527
        },
        "id": "oE1yQwGxS5f4",
        "outputId": "bff73c0d-3d93-49dc-ea4f-ca633f2bb7c7"
      },
      "execution_count": null,
      "outputs": [
        {
          "output_type": "display_data",
          "data": {
            "image/png": "[encoded data removed]",
            "text/plain": [
              "<IPython.core.display.Image object>"
            ]
          },
          "metadata": {}
        }
      ]
    },
    {
      "cell_type": "code",
      "source": [
        "#invoke the chain\n",
        "state = chain.invoke({\"topic\": \"cats\"})\n",
        "print(\"Initial haiku:\")\n",
        "print(state[\"haiku\"])\n",
        "print(\"\\n------------\\n\")\n",
        "if \"improved_haiku\" in state:\n",
        "  print(\"Improved haiku:\")\n",
        "  print(state[\"improved_haiku\"])\n",
        "  print(\"\\n----------\\n\")\n",
        "\n",
        "  print(\"Final haiku:\")\n",
        "  print(state[\"final_haiku\"])\n",
        "else:\n",
        "  print(\"Haiku failed conditional check - not a good haiku!\")\n"
      ],
      "metadata": {
        "colab": {
          "base_uri": "https://localhost:8080/"
        },
        "id": "ZitQ9_WlZuIU",
        "outputId": "2c02f5e2-11f6-4f18-cc72-ea048f4a944e"
      },
      "execution_count": null,
      "outputs": [
        {
          "output_type": "stream",
          "name": "stdout",
          "text": [
            "Initial haiku:\n",
            "Whiskers softly gleam\n",
            "Moonlight dancing on their backs\n",
            "Furry gentle souls\n",
            "\n",
            "------------\n",
            "\n",
            "Haiku failed conditional check - not a good haiku!\n"
          ]
        }
      ]
    },
    {
      "cell_type": "markdown",
      "source": [
        "##Parallelization: LLMs work simultaneously on a task"
      ],
      "metadata": {
        "id": "hLoZDNl5e7gt"
      }
    },
    {
      "cell_type": "code",
      "source": [
        "#graph state\n",
        "class State(TypedDict):\n",
        "  topic: str\n",
        "  haiku: str\n",
        "  story: str\n",
        "  poem: str\n",
        "  combined_output: str\n",
        "\n",
        "#nodes\n",
        "def call_llm1(state: State):\n",
        "  \"\"\"1st llm call to write a haiku\"\"\"\n",
        "\n",
        "  msg = llm.invoke(f\"Write a haiku about {state['topic']}\")\n",
        "  return {\"haiku\": msg.content}\n",
        "\n",
        "def call_llm2(state: State):\n",
        "  \"\"\"2nd llm call to write a story\"\"\"\n",
        "\n",
        "  msg = llm.invoke(f\"Write a story about {state['topic']}\")\n",
        "  return {\"story\": msg.content}\n",
        "\n",
        "def call_llm3(state: State):\n",
        "  \"\"\"3rd llm call to write a poem\"\"\"\n",
        "\n",
        "  msg = llm.invoke(f\"Write a poem about {state['topic']}\")\n",
        "  return {\"poem\": msg.content}\n",
        "\n",
        "def aggregator(state: State):\n",
        "  \"\"\"Combine the haiku, story and poem in to a single output\"\"\"\n",
        "\n",
        "  combined = f\"Here's a haiku, story and poem abount {state['topic']}!\\n\\n\"\n",
        "  combined += f\"HAIKU:\\n{state['haiku']}\\n\\n\"\n",
        "  combined += f\"STORY:\\n\\n{state['story']}\\n\\n\"\n",
        "  combined += f\"POEM: \\n\\n{state['poem']}\"\n",
        "  return {\"combined_output\": combined}\n",
        "\n",
        "#build workflow\n",
        "parallel_builder = StateGraph(State)\n",
        "\n",
        "#add nodes\n",
        "parallel_builder.add_node(\"call_llm1\", call_llm1)\n",
        "parallel_builder.add_node(\"call_llm2\", call_llm2)\n",
        "parallel_builder.add_node(\"call_llm3\", call_llm3)\n",
        "parallel_builder.add_node(\"aggregator\", aggregator)\n",
        "\n",
        "#add edges to connect nodes\n",
        "parallel_builder.add_edge(START, \"call_llm1\")\n",
        "parallel_builder.add_edge(START, \"call_llm2\")\n",
        "parallel_builder.add_edge(START, \"call_llm3\")\n",
        "parallel_builder.add_edge(\"call_llm1\", \"aggregator\")\n",
        "parallel_builder.add_edge(\"call_llm2\", \"aggregator\")\n",
        "parallel_builder.add_edge(\"call_llm3\", \"aggregator\")\n",
        "parallel_builder.add_edge(\"aggregator\", END)\n",
        "\n",
        "parallel_workflow = parallel_builder.compile()\n",
        "\n",
        "#display workflow\n",
        "display(Image(parallel_workflow.get_graph().draw_mermaid_png()))"
      ],
      "metadata": {
        "colab": {
          "base_uri": "https://localhost:8080/",
          "height": 350
        },
        "id": "P0QIcFakcUYN",
        "outputId": "77df7420-3ead-4e00-a09e-9e96433f30af"
      },
      "execution_count": null,
      "outputs": [
        {
          "output_type": "display_data",
          "data": {
            "image/png": "[encoded data removed]",
            "text/plain": [
              "<IPython.core.display.Image object>"
            ]
          },
          "metadata": {}
        }
      ]
    },
    {
      "cell_type": "code",
      "source": [
        "#invoke the parallel workflow\n",
        "\n",
        "state = parallel_workflow.invoke({\"topic\": \"cats\"})\n",
        "print(state[\"combined_output\"])"
      ],
      "metadata": {
        "colab": {
          "base_uri": "https://localhost:8080/"
        },
        "id": "N_r_ICtQhOY4",
        "outputId": "30547b28-5687-41bd-f4f1-8f5e530af700"
      },
      "execution_count": null,
      "outputs": [
        {
          "output_type": "stream",
          "name": "stdout",
          "text": [
            "Here's a haiku, story and poem abount cats!\n",
            "\n",
            "HAIKU:\n",
            "Whiskers softly gleam\n",
            "Moonlight dancing on their backs\n",
            "Furry gentle souls\n",
            "\n",
            "STORY:\n",
            "\n",
            "In a small, cozy town surrounded by rolling hills and green pastures, there was a mystical place known as Whisker Woods. It was a feline paradise, where cats of all shapes and sizes roamed free, their tails twitching with excitement as they explored the winding paths and hidden clearings.\n",
            "\n",
            "At the heart of Whisker Woods was a magnificent cat named Luna. She was a sleek and agile feline, with shimmering gray fur and piercing green eyes that seemed to see right through to the soul. Luna was the leader of the Whisker Woods cats, and she ruled with a gentle yet firm paw.\n",
            "\n",
            "One sunny afternoon, a curious little kitten named Leo wandered into Whisker Woods. He was a ball of fluffy orange fur, with big round eyes and a mischievous grin. Leo had been separated from his family during a storm, and he had been searching for a new home ever since.\n",
            "\n",
            "As he explored the woods, Leo stumbled upon Luna, who was lounging in a sun-dappled clearing. She gazed at him with a discerning eye, then nodded her head in approval. \"Welcome, little one,\" she said, her voice low and soothing. \"I am Luna, the queen of Whisker Woods. What brings you to our neck of the woods?\"\n",
            "\n",
            "Leo explained his situation, and Luna listened intently, her ears perked up with interest. When he finished, she nodded thoughtfully. \"You are welcome to stay with us, Leo,\" she said. \"But first, you must prove yourself worthy of joining our feline family.\"\n",
            "\n",
            "Leo's eyes widened with excitement. \"What do I have to do?\" he asked, his tail twitching with anticipation.\n",
            "\n",
            "Luna smiled, a sly glint in her eye. \"I will set you three tasks,\" she said. \"If you complete them successfully, you will be granted a place among our ranks. But if you fail, you will have to leave Whisker Woods forever.\"\n",
            "\n",
            "Leo's heart skipped a beat, but he steeled himself for the challenge. \"I'm ready,\" he said, his voice firm.\n",
            "\n",
            "Luna nodded, a small smile playing on her lips. \"Very well, little one. Your first task is to catch a mouse that has been stealing food from our stores. The second task is to climb to the top of the tallest tree in Whisker Woods and retrieve a feather from a bird's nest. And the third task is to make friends with a grumpy old cat named Jasper, who lives in a cave on the outskirts of the woods.\"\n",
            "\n",
            "Leo's eyes grew wide with excitement as he listened to the tasks. He knew it wouldn't be easy, but he was determined to succeed. With a fierce meow, he set off to complete his challenges and prove himself worthy of joining the Whisker Woods cats.\n",
            "\n",
            "As the sun began to set, Leo returned to Luna, exhausted but triumphant. He had caught the mouse, climbed the tree, and even managed to charm Jasper into becoming his friend. Luna gazed at him with pride, her eyes shining with approval.\n",
            "\n",
            "\"Well done, little one,\" she said, her voice filled with warmth. \"You have proven yourself to be brave, clever, and kind. You are now a member of the Whisker Woods cats, and you will always have a home among us.\"\n",
            "\n",
            "And with that, Leo became a part of the Whisker Woods family, living happily ever after with his new feline friends and the wise and wonderful Luna as their leader.\n",
            "\n",
            "POEM: \n",
            "\n",
            "Whiskers twitch, ears perk up high,\n",
            "As feline forms go gliding by,\n",
            "Their fur a soft and silky treat,\n",
            "Inviting touch, a gentle greet.\n",
            "\n",
            "With eyes like jewels, bright and green,\n",
            "They prowl through night, or lounge serene,\n",
            "Their purrs a soothing, rumbling sound,\n",
            "As they claim space, and wrap around.\n",
            "\n",
            "Their claws, sharp-tipped, and retract fast,\n",
            "A hidden danger, in a gentle cast,\n",
            "Their little noses, pink and fine,\n",
            "Twitching, sniffing, all the time.\n",
            "\n",
            "With playful pounces, and a flick of tail,\n",
            "They chase their toys, without a fail,\n",
            "Their independence, a wondrous thing,\n",
            "A self-contained, and secret king.\n",
            "\n",
            "But when they curl up, tight and small,\n",
            "And purr, and snuggle, through it all,\n",
            "Their hearts, a warm and loving space,\n",
            "A haven, where love finds its place.\n",
            "\n",
            "Oh, cats, oh cats, with your mysterious ways,\n",
            "You rule our hearts, and brighten our days,\n",
            "With your soft fur, and your eyes so bright,\n",
            "You are a joy, a pure delight.\n"
          ]
        }
      ]
    },
    {
      "cell_type": "code",
      "source": [],
      "metadata": {
        "id": "n9OHk9KwiD9U"
      },
      "execution_count": null,
      "outputs": []
    },
    {
      "cell_type": "markdown",
      "source": [
        "##Routing: Classifies an input and directs it to a followup task"
      ],
      "metadata": {
        "id": "VjhMJ5qXiNYq"
      }
    },
    {
      "cell_type": "code",
      "source": [
        "from typing_extensions import Literal\n",
        "from langchain_core.messages import HumanMessage, SystemMessage\n",
        "\n",
        "#schema for structured output to use as routing logic\n",
        "class Route(BaseModel):\n",
        "  step: Literal[\"haiku\", \"story\", \"poem\"] = Field(None, description=\"The next step in routing process\")\n",
        "\n",
        "#augment the llm with schema for structured output\n",
        "router = llm.with_structured_output(Route)\n",
        "\n",
        "#state\n",
        "class State(TypedDict):\n",
        "  input: str\n",
        "  decision: str\n",
        "  output: str\n",
        "\n",
        "#nodes\n",
        "def llm_call1(state: State):\n",
        "  \"\"\"write a haiku\"\"\"\n",
        "\n",
        "  result = llm.invoke(state[\"input\"])\n",
        "  return {\"output\": result.content}\n",
        "\n",
        "def llm_call2(state: State):\n",
        "  \"\"\"write a story\"\"\"\n",
        "\n",
        "  result = llm.invoke(state[\"input\"])\n",
        "  return {\"output\": result.content}\n",
        "\n",
        "def llm_call3(state: State):\n",
        "  \"\"\"write a poem\"\"\"\n",
        "\n",
        "  result = llm.invoke(state[\"input\"])\n",
        "  return {\"output\": result.content}\n",
        "\n",
        "def llm_call_router(state: State):\n",
        "  \"\"\"Route the input to the appropriate node\"\"\"\n",
        "\n",
        "  #run the augmented llm with structured output to server as routing logic\n",
        "  decision = router.invoke(\n",
        "      [\n",
        "          SystemMessage(\n",
        "              content=\"Route the input to haiku, story, or poem based on the user's request\"\n",
        "          ),\n",
        "          HumanMessage(content=state[\"input\"])\n",
        "      ]\n",
        "  )\n",
        "  return {\"decision\": decision.step}\n",
        "\n",
        "#conditional edge function to route to the appropriate node\n",
        "def route_decision(state: State):\n",
        "  #return the node name you want to visit next\n",
        "  if state[\"decision\"] == \"haiku\":\n",
        "    return \"llm_call1\"\n",
        "  elif state[\"decision\"] == \"story\":\n",
        "    return \"llm_call2\"\n",
        "  elif state[\"decision\"] == \"poem\":\n",
        "    return \"llm_call3\"\n",
        "\n",
        "#build workflow\n",
        "router_builder = StateGraph(State)\n",
        "\n",
        "#add nodes\n",
        "router_builder.add_node(\"llm_call1\", llm_call1)\n",
        "router_builder.add_node(\"llm_call2\", llm_call2)\n",
        "router_builder.add_node(\"llm_call3\", llm_call3)\n",
        "router_builder.add_node(\"llm_call_router\", llm_call_router)\n",
        "\n",
        "#add edges to connect nodes\n",
        "router_builder.add_edge(START, \"llm_call_router\")\n",
        "router_builder.add_conditional_edges(\n",
        "    \"llm_call_router\",\n",
        "    route_decision,\n",
        "    {\n",
        "        \"llm_call1\": \"llm_call1\",\n",
        "        \"llm_call2\": \"llm_call2\",\n",
        "        \"llm_call3\": \"llm_call3\",\n",
        "    },\n",
        ")\n",
        "router_builder.add_edge(\"llm_call1\", END)\n",
        "router_builder.add_edge(\"llm_call2\", END)\n",
        "router_builder.add_edge(\"llm_call3\", END)\n",
        "\n",
        "#compile\n",
        "router_workflow = router_builder.compile()\n",
        "\n",
        "#display workflow\n",
        "display(Image(router_workflow.get_graph().draw_mermaid_png()))"
      ],
      "metadata": {
        "colab": {
          "base_uri": "https://localhost:8080/",
          "height": 350
        },
        "id": "LCSJKOtYiS-R",
        "outputId": "a133d61d-9f9c-452c-aac3-830ccc22ca7b"
      },
      "execution_count": null,
      "outputs": [
        {
          "output_type": "display_data",
          "data": {
            "image/png": "[encoded data removed]",
            "text/plain": [
              "<IPython.core.display.Image object>"
            ]
          },
          "metadata": {}
        }
      ]
    },
    {
      "cell_type": "code",
      "source": [
        "#invoke the router workflow\n",
        "state = router_workflow.invoke({\"input\": \"Write me a haiku about cats\"})\n",
        "print(state[\"output\"])"
      ],
      "metadata": {
        "colab": {
          "base_uri": "https://localhost:8080/"
        },
        "id": "slOBYkt8lkqw",
        "outputId": "1d371113-fae8-4635-8fd3-64df99432d6b"
      },
      "execution_count": null,
      "outputs": [
        {
          "output_type": "stream",
          "name": "stdout",
          "text": [
            "Whiskers softly gleam\n",
            "Moonlight dancing on their backs\n",
            "Furry gentle souls\n"
          ]
        }
      ]
    },
    {
      "cell_type": "code",
      "source": [],
      "metadata": {
        "id": "jqVVfv5cl0nz"
      },
      "execution_count": null,
      "outputs": []
    }
  ]
}